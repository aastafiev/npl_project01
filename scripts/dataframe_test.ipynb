{
 "cells": [
  {
   "cell_type": "code",
   "execution_count": 110,
   "metadata": {
    "collapsed": false,
    "deletable": true,
    "editable": true
   },
   "outputs": [],
   "source": [
    "%matplotlib inline\n",
    "\n",
    "import numpy as np\n",
    "from pandas import read_csv\n",
    "import pandas as pd\n",
    "import json\n",
    "from sklearn.feature_extraction.text import CountVectorizer\n",
    "from sklearn.cross_validation import train_test_split\n",
    "from sklearn.linear_model import LogisticRegression\n",
    "from sklearn import metrics\n",
    "import matplotlib.pyplot as plot\n",
    "import seaborn"
   ]
  },
  {
   "cell_type": "code",
   "execution_count": 2,
   "metadata": {
    "collapsed": false,
    "deletable": true,
    "editable": true,
    "scrolled": true
   },
   "outputs": [],
   "source": [
    "path = \"../data/uid_domains_full.csv\"\n",
    "data = read_csv(path, delimiter='\\t')\n",
    "data['domains'] = [','.join(json.loads(i)) for i in data['domains']]"
   ]
  },
  {
   "cell_type": "code",
   "execution_count": 3,
   "metadata": {
    "collapsed": false,
    "deletable": true,
    "editable": true
   },
   "outputs": [
    {
     "data": {
      "text/html": [
       "<div>\n",
       "<table border=\"1\" class=\"dataframe\">\n",
       "  <thead>\n",
       "    <tr style=\"text-align: right;\">\n",
       "      <th></th>\n",
       "      <th>uid</th>\n",
       "      <th>gender</th>\n",
       "      <th>age</th>\n",
       "      <th>domains</th>\n",
       "    </tr>\n",
       "  </thead>\n",
       "  <tbody>\n",
       "    <tr>\n",
       "      <th>0</th>\n",
       "      <td>d50192e5-c44e-4ae8-ae7a-7cfe67c8b777</td>\n",
       "      <td>F</td>\n",
       "      <td>18-24</td>\n",
       "      <td>news.yandex.ru,sotovik.ru,zebra-zoya.ru</td>\n",
       "    </tr>\n",
       "    <tr>\n",
       "      <th>1</th>\n",
       "      <td>d502331d-621e-4721-ada2-5d30b2c3801f</td>\n",
       "      <td>M</td>\n",
       "      <td>25-34</td>\n",
       "      <td>rsdn.ru,citieslist.ru,rutv.ru,interfax.ru,vand...</td>\n",
       "    </tr>\n",
       "    <tr>\n",
       "      <th>2</th>\n",
       "      <td>d50237ea-747e-48a2-ba46-d08e71dddfdb</td>\n",
       "      <td>F</td>\n",
       "      <td>25-34</td>\n",
       "      <td>ru.oriflame.com,adme.ru,cdn.etgdta.com,povar.r...</td>\n",
       "    </tr>\n",
       "    <tr>\n",
       "      <th>3</th>\n",
       "      <td>d502f29f-d57a-46bf-8703-1cb5f8dcdf03</td>\n",
       "      <td>F</td>\n",
       "      <td>25-34</td>\n",
       "      <td>1obl.ru,nadietah.ru,translate-tattoo.ru</td>\n",
       "    </tr>\n",
       "    <tr>\n",
       "      <th>4</th>\n",
       "      <td>d503c3b2-a0c2-4f47-bb27-065058c73008</td>\n",
       "      <td>M</td>\n",
       "      <td>&gt;=55</td>\n",
       "      <td>fedpress.ru,eleks.ru,prommetizcomplect.ru,ramb...</td>\n",
       "    </tr>\n",
       "  </tbody>\n",
       "</table>\n",
       "</div>"
      ],
      "text/plain": [
       "                                    uid gender    age  \\\n",
       "0  d50192e5-c44e-4ae8-ae7a-7cfe67c8b777      F  18-24   \n",
       "1  d502331d-621e-4721-ada2-5d30b2c3801f      M  25-34   \n",
       "2  d50237ea-747e-48a2-ba46-d08e71dddfdb      F  25-34   \n",
       "3  d502f29f-d57a-46bf-8703-1cb5f8dcdf03      F  25-34   \n",
       "4  d503c3b2-a0c2-4f47-bb27-065058c73008      M   >=55   \n",
       "\n",
       "                                             domains  \n",
       "0            news.yandex.ru,sotovik.ru,zebra-zoya.ru  \n",
       "1  rsdn.ru,citieslist.ru,rutv.ru,interfax.ru,vand...  \n",
       "2  ru.oriflame.com,adme.ru,cdn.etgdta.com,povar.r...  \n",
       "3            1obl.ru,nadietah.ru,translate-tattoo.ru  \n",
       "4  fedpress.ru,eleks.ru,prommetizcomplect.ru,ramb...  "
      ]
     },
     "execution_count": 3,
     "metadata": {},
     "output_type": "execute_result"
    }
   ],
   "source": [
    "data.head()"
   ]
  },
  {
   "cell_type": "code",
   "execution_count": 65,
   "metadata": {
    "collapsed": true,
    "deletable": true,
    "editable": true
   },
   "outputs": [],
   "source": [
    "test_data = data[(data['gender'] == '-') & (data['age'] == '-')]\n",
    "train_data = data[~((data['gender'] == '-') & (data['age'] == '-'))]\n",
    "train_data = train_data.sort_values(by=['age'])\n",
    "train_data['age'] = pd.factorize(train_data.age)[0]\n",
    "train_data['gender'] = pd.factorize(train_data.gender)[0]"
   ]
  },
  {
   "cell_type": "code",
   "execution_count": 66,
   "metadata": {
    "collapsed": false
   },
   "outputs": [
    {
     "data": {
      "text/html": [
       "<div>\n",
       "<table border=\"1\" class=\"dataframe\">\n",
       "  <thead>\n",
       "    <tr style=\"text-align: right;\">\n",
       "      <th></th>\n",
       "      <th>uid</th>\n",
       "      <th>gender</th>\n",
       "      <th>age</th>\n",
       "      <th>domains</th>\n",
       "    </tr>\n",
       "  </thead>\n",
       "  <tbody>\n",
       "    <tr>\n",
       "      <th>0</th>\n",
       "      <td>d50192e5-c44e-4ae8-ae7a-7cfe67c8b777</td>\n",
       "      <td>0</td>\n",
       "      <td>0</td>\n",
       "      <td>news.yandex.ru,sotovik.ru,zebra-zoya.ru</td>\n",
       "    </tr>\n",
       "    <tr>\n",
       "      <th>4956</th>\n",
       "      <td>0a00e0d0-cf5f-458c-855c-9fbae366c063</td>\n",
       "      <td>0</td>\n",
       "      <td>0</td>\n",
       "      <td>jv.ru,photogoroda.com,shougolos.ru,gsconto.com...</td>\n",
       "    </tr>\n",
       "  </tbody>\n",
       "</table>\n",
       "</div>"
      ],
      "text/plain": [
       "                                       uid  gender  age  \\\n",
       "0     d50192e5-c44e-4ae8-ae7a-7cfe67c8b777       0    0   \n",
       "4956  0a00e0d0-cf5f-458c-855c-9fbae366c063       0    0   \n",
       "\n",
       "                                                domains  \n",
       "0               news.yandex.ru,sotovik.ru,zebra-zoya.ru  \n",
       "4956  jv.ru,photogoroda.com,shougolos.ru,gsconto.com...  "
      ]
     },
     "execution_count": 66,
     "metadata": {},
     "output_type": "execute_result"
    }
   ],
   "source": [
    "train_data.head(2)"
   ]
  },
  {
   "cell_type": "code",
   "execution_count": 67,
   "metadata": {
    "collapsed": false,
    "deletable": true,
    "editable": true
   },
   "outputs": [],
   "source": [
    "text_all = train_data['domains'].values.tolist()"
   ]
  },
  {
   "cell_type": "code",
   "execution_count": 68,
   "metadata": {
    "collapsed": false,
    "deletable": true,
    "editable": true
   },
   "outputs": [],
   "source": [
    "count_vec = CountVectorizer(tokenizer=lambda x: [i for i in x.split(',') if '.ru' in i], \n",
    "                            max_features=10000) "
   ]
  },
  {
   "cell_type": "code",
   "execution_count": 69,
   "metadata": {
    "collapsed": false,
    "deletable": true,
    "editable": true
   },
   "outputs": [],
   "source": [
    "matrix_count = count_vec.fit_transform(text_all)\n",
    "matrix = matrix_count.toarray()"
   ]
  },
  {
   "cell_type": "code",
   "execution_count": 70,
   "metadata": {
    "collapsed": true,
    "deletable": true,
    "editable": true
   },
   "outputs": [],
   "source": [
    "words = [x[0] for x in sorted(count_vec.vocabulary_.items(), key=lambda x: x[1])]"
   ]
  },
  {
   "cell_type": "code",
   "execution_count": 71,
   "metadata": {
    "collapsed": false,
    "deletable": true,
    "editable": true
   },
   "outputs": [],
   "source": [
    "matrix_df = pd.DataFrame(matrix, columns=words)"
   ]
  },
  {
   "cell_type": "code",
   "execution_count": 72,
   "metadata": {
    "collapsed": false,
    "deletable": true,
    "editable": true
   },
   "outputs": [],
   "source": [
    "matrix_df['uid'] = data['uid']\n",
    "matrix_df = pd.merge(matrix_df, train_data, on='uid').drop(['domains'], axis=1)\n",
    "# matrix_df = pd.get_dummies(matrix_df, columns=['gender'])"
   ]
  },
  {
   "cell_type": "code",
   "execution_count": 73,
   "metadata": {
    "collapsed": false,
    "deletable": true,
    "editable": true
   },
   "outputs": [
    {
     "data": {
      "text/html": [
       "<div>\n",
       "<table border=\"1\" class=\"dataframe\">\n",
       "  <thead>\n",
       "    <tr style=\"text-align: right;\">\n",
       "      <th></th>\n",
       "      <th>000a.ru</th>\n",
       "      <th>008.ru</th>\n",
       "      <th>03-ektb.ru</th>\n",
       "      <th>09irk.ru</th>\n",
       "      <th>0lik.ru</th>\n",
       "      <th>0ve.ru</th>\n",
       "      <th>0zd.ru</th>\n",
       "      <th>1-dream.ru</th>\n",
       "      <th>1-pp.ru</th>\n",
       "      <th>10-casino.ru</th>\n",
       "      <th>...</th>\n",
       "      <th>zvezdi.mirtesen.ru</th>\n",
       "      <th>zvezdi.ru</th>\n",
       "      <th>zvukobook.ru</th>\n",
       "      <th>zvukomaniya.ru</th>\n",
       "      <th>zxcc.ru</th>\n",
       "      <th>zzap.ru</th>\n",
       "      <th>zzombi.ru</th>\n",
       "      <th>uid</th>\n",
       "      <th>gender</th>\n",
       "      <th>age</th>\n",
       "    </tr>\n",
       "  </thead>\n",
       "  <tbody>\n",
       "    <tr>\n",
       "      <th>0</th>\n",
       "      <td>0</td>\n",
       "      <td>0</td>\n",
       "      <td>0</td>\n",
       "      <td>0</td>\n",
       "      <td>0</td>\n",
       "      <td>0</td>\n",
       "      <td>0</td>\n",
       "      <td>0</td>\n",
       "      <td>0</td>\n",
       "      <td>0</td>\n",
       "      <td>...</td>\n",
       "      <td>0</td>\n",
       "      <td>0</td>\n",
       "      <td>0</td>\n",
       "      <td>0</td>\n",
       "      <td>0</td>\n",
       "      <td>0</td>\n",
       "      <td>0</td>\n",
       "      <td>d50192e5-c44e-4ae8-ae7a-7cfe67c8b777</td>\n",
       "      <td>0</td>\n",
       "      <td>0</td>\n",
       "    </tr>\n",
       "    <tr>\n",
       "      <th>1</th>\n",
       "      <td>0</td>\n",
       "      <td>0</td>\n",
       "      <td>0</td>\n",
       "      <td>0</td>\n",
       "      <td>0</td>\n",
       "      <td>0</td>\n",
       "      <td>0</td>\n",
       "      <td>0</td>\n",
       "      <td>0</td>\n",
       "      <td>0</td>\n",
       "      <td>...</td>\n",
       "      <td>0</td>\n",
       "      <td>0</td>\n",
       "      <td>0</td>\n",
       "      <td>0</td>\n",
       "      <td>0</td>\n",
       "      <td>0</td>\n",
       "      <td>0</td>\n",
       "      <td>d502331d-621e-4721-ada2-5d30b2c3801f</td>\n",
       "      <td>1</td>\n",
       "      <td>1</td>\n",
       "    </tr>\n",
       "  </tbody>\n",
       "</table>\n",
       "<p>2 rows × 10003 columns</p>\n",
       "</div>"
      ],
      "text/plain": [
       "   000a.ru  008.ru  03-ektb.ru  09irk.ru  0lik.ru  0ve.ru  0zd.ru  1-dream.ru  \\\n",
       "0        0       0           0         0        0       0       0           0   \n",
       "1        0       0           0         0        0       0       0           0   \n",
       "\n",
       "   1-pp.ru  10-casino.ru ...   zvezdi.mirtesen.ru  zvezdi.ru  zvukobook.ru  \\\n",
       "0        0             0 ...                    0          0             0   \n",
       "1        0             0 ...                    0          0             0   \n",
       "\n",
       "   zvukomaniya.ru  zxcc.ru  zzap.ru  zzombi.ru  \\\n",
       "0               0        0        0          0   \n",
       "1               0        0        0          0   \n",
       "\n",
       "                                    uid  gender  age  \n",
       "0  d50192e5-c44e-4ae8-ae7a-7cfe67c8b777       0    0  \n",
       "1  d502331d-621e-4721-ada2-5d30b2c3801f       1    1  \n",
       "\n",
       "[2 rows x 10003 columns]"
      ]
     },
     "execution_count": 73,
     "metadata": {},
     "output_type": "execute_result"
    }
   ],
   "source": [
    "matrix_df.head(2)"
   ]
  },
  {
   "cell_type": "code",
   "execution_count": 17,
   "metadata": {
    "collapsed": false,
    "deletable": true,
    "editable": true
   },
   "outputs": [],
   "source": [
    "# matrix_df = matrix_df.drop(['gender_F'], axis=1)"
   ]
  },
  {
   "cell_type": "code",
   "execution_count": 18,
   "metadata": {
    "collapsed": false,
    "deletable": true,
    "editable": true
   },
   "outputs": [],
   "source": [
    "# matrix_df.to_csv('../data/matrix_df.csv', sep='\\t')"
   ]
  },
  {
   "cell_type": "code",
   "execution_count": 19,
   "metadata": {
    "collapsed": false,
    "deletable": true,
    "editable": true
   },
   "outputs": [],
   "source": [
    "# test_matrix = matrix_df[matrix_df['uid'].isin(test_data['uid'].values.tolist())]"
   ]
  },
  {
   "cell_type": "code",
   "execution_count": 20,
   "metadata": {
    "collapsed": true,
    "deletable": true,
    "editable": true
   },
   "outputs": [],
   "source": [
    "# train_matrix = matrix_df[~(matrix_df['uid'].isin(test_data['uid'].values.tolist()))]"
   ]
  },
  {
   "cell_type": "code",
   "execution_count": 74,
   "metadata": {
    "collapsed": false,
    "deletable": true,
    "editable": true
   },
   "outputs": [],
   "source": [
    "# Y_target = train_matrix['gender_M']\n",
    "# Y_target = matrix_df['gender_M']\n",
    "Y_target = matrix_df['age']"
   ]
  },
  {
   "cell_type": "code",
   "execution_count": 75,
   "metadata": {
    "collapsed": false,
    "deletable": true,
    "editable": true
   },
   "outputs": [],
   "source": [
    "# X_target = train_matrix.drop(['uid', 'age_-', 'age_18-24', 'age_25-34', 'age_35-44', 'age_45-54', 'age_>=55'], axis=1)\n",
    "# X_target = matrix_df.drop(['uid', 'age_18-24', 'age_25-34', 'age_35-44', 'age_45-54', 'age_>=55'], axis=1)\n",
    "X_target = matrix_df.drop(['uid'], axis=1)\n"
   ]
  },
  {
   "cell_type": "code",
   "execution_count": 148,
   "metadata": {
    "collapsed": false,
    "deletable": true,
    "editable": true
   },
   "outputs": [],
   "source": [
    "def cross_valid(matrix_counts, target, test_size=0.3, random_state=0):\n",
    "    return train_test_split(matrix_counts, target, test_size=test_size, random_state=random_state)"
   ]
  },
  {
   "cell_type": "code",
   "execution_count": 114,
   "metadata": {
    "collapsed": true,
    "deletable": true,
    "editable": true
   },
   "outputs": [],
   "source": [
    "def roc_curve(title, Y_test, predicted, label='?', pos_label=0):\n",
    "    fpr, tpr, th = metrics.roc_curve(Y_test, predicted, pos_label=pos_label)\n",
    "    plot.plot(fpr, tpr, label=label);\n",
    "    plot.xlabel('False Positive'); \n",
    "    plot.ylabel('True Positive'); \n",
    "    plot.title(title)\n",
    "    plot.legend(bbox_to_anchor=(1, 1), loc=2); \n",
    "    plot.xlim([0.0, 1.0]); plot.ylim([0.0, 1]);\n",
    "    print 'Logistic Regression (', label, ') AUC = ', metrics.auc(fpr, tpr)"
   ]
  },
  {
   "cell_type": "code",
   "execution_count": 78,
   "metadata": {
    "collapsed": false,
    "deletable": true,
    "editable": true
   },
   "outputs": [],
   "source": [
    "X_train, X_test, Y_train, Y_test = cross_valid(X_target, Y_target, random_state=5)"
   ]
  },
  {
   "cell_type": "code",
   "execution_count": 126,
   "metadata": {
    "collapsed": false,
    "deletable": true,
    "editable": true
   },
   "outputs": [],
   "source": [
    "from sklearn.ensemble import RandomForestClassifier\n",
    "from sklearn.naive_bayes import MultinomialNB\n",
    "from sklearn.linear_model import LogisticRegression\n",
    "from sklearn.svm import SVC\n",
    "from sklearn import metrics\n",
    "import numpy"
   ]
  },
  {
   "cell_type": "code",
   "execution_count": 80,
   "metadata": {
    "collapsed": false,
    "deletable": true,
    "editable": true
   },
   "outputs": [
    {
     "data": {
      "text/plain": [
       "RandomForestClassifier(bootstrap=True, class_weight=None, criterion='gini',\n",
       "            max_depth=None, max_features='auto', max_leaf_nodes=None,\n",
       "            min_impurity_split=1e-07, min_samples_leaf=1,\n",
       "            min_samples_split=2, min_weight_fraction_leaf=0.0,\n",
       "            n_estimators=100, n_jobs=23, oob_score=False,\n",
       "            random_state=None, verbose=0, warm_start=False)"
      ]
     },
     "execution_count": 80,
     "metadata": {},
     "output_type": "execute_result"
    }
   ],
   "source": [
    "model1 = RandomForestClassifier(n_estimators=100, n_jobs=23)\n",
    "model1.fit(X_train, Y_train)\n",
    "# model2 = MultinomialNB(alpha=1)\n",
    "# model2.fit(X_train, Y_train)\n",
    "# model3 = LogisticRegression(C=1.0, penalty='l2')\n",
    "# model3.fit(X_train, Y_train)\n",
    "# model4 = SVC()\n",
    "# model4.fit(X_train, Y_train)"
   ]
  },
  {
   "cell_type": "code",
   "execution_count": 81,
   "metadata": {
    "collapsed": true,
    "deletable": true,
    "editable": true
   },
   "outputs": [],
   "source": [
    "predict1 = model1.predict_proba(X_test)\n",
    "# predict2 = model2.predict_proba(X_test)\n",
    "# predict3 = model3.predict_proba(X_test)\n",
    "# predict4 = model4.predict_proba(X_test)"
   ]
  },
  {
   "cell_type": "code",
   "execution_count": 204,
   "metadata": {
    "collapsed": false
   },
   "outputs": [],
   "source": [
    "predict_ = pd.DataFrame([sum([i * int(j == m) for i, j in enumerate(p)])\n",
    "                         for p, m in ((p, max(p)) \n",
    "                                      for p in predict1)],\n",
    "                        columns=['predicted_age']\n",
    "                       )\n",
    "predict_.index = Y_test.index\n",
    "predict_['Y_test'] = Y_test.values"
   ]
  },
  {
   "cell_type": "code",
   "execution_count": 200,
   "metadata": {
    "collapsed": false
   },
   "outputs": [],
   "source": []
  },
  {
   "cell_type": "code",
   "execution_count": 205,
   "metadata": {
    "collapsed": false
   },
   "outputs": [],
   "source": [
    "predict_['is_correct'] = predict_['Y_test'] == predict_['predicted_age']"
   ]
  },
  {
   "cell_type": "code",
   "execution_count": 213,
   "metadata": {
    "collapsed": false
   },
   "outputs": [
    {
     "data": {
      "text/plain": [
       "(10782, 10842)"
      ]
     },
     "execution_count": 213,
     "metadata": {},
     "output_type": "execute_result"
    }
   ],
   "source": [
    "len(predict_[predict_['is_correct'] == True]), len(predict_)"
   ]
  },
  {
   "cell_type": "code",
   "execution_count": 121,
   "metadata": {
    "collapsed": false,
    "deletable": true,
    "editable": true
   },
   "outputs": [
    {
     "ename": "TypeError",
     "evalue": "list indices must be integers, not tuple",
     "output_type": "error",
     "traceback": [
      "\u001b[0;31m---------------------------------------------------------------------------\u001b[0m",
      "\u001b[0;31mTypeError\u001b[0m                                 Traceback (most recent call last)",
      "\u001b[0;32m<ipython-input-121-1575babef177>\u001b[0m in \u001b[0;36m<module>\u001b[0;34m()\u001b[0m\n\u001b[1;32m      1\u001b[0m \u001b[0;32mfor\u001b[0m \u001b[0mi\u001b[0m \u001b[0;32min\u001b[0m \u001b[0mrange\u001b[0m\u001b[0;34m(\u001b[0m\u001b[0;36m5\u001b[0m\u001b[0;34m)\u001b[0m\u001b[0;34m:\u001b[0m\u001b[0;34m\u001b[0m\u001b[0m\n\u001b[0;32m----> 2\u001b[0;31m     \u001b[0mroc_curve\u001b[0m\u001b[0;34m(\u001b[0m\u001b[0;34m'log reg, ROC'\u001b[0m\u001b[0;34m,\u001b[0m \u001b[0mY_test\u001b[0m\u001b[0;34m,\u001b[0m \u001b[0mpredict_\u001b[0m\u001b[0;34m[\u001b[0m\u001b[0;34m:\u001b[0m\u001b[0;34m,\u001b[0m \u001b[0mi\u001b[0m\u001b[0;34m]\u001b[0m\u001b[0;34m,\u001b[0m \u001b[0mlabel\u001b[0m\u001b[0;34m=\u001b[0m\u001b[0;34m'RandomForestClassifier %s'\u001b[0m \u001b[0;34m%\u001b[0m \u001b[0mi\u001b[0m\u001b[0;34m,\u001b[0m \u001b[0mpos_label\u001b[0m\u001b[0;34m=\u001b[0m\u001b[0mi\u001b[0m\u001b[0;34m)\u001b[0m\u001b[0;34m\u001b[0m\u001b[0m\n\u001b[0m\u001b[1;32m      3\u001b[0m \u001b[0;31m# roc_curve('log reg, ROC', Y_test, predict2, label='MultinomialNB')\u001b[0m\u001b[0;34m\u001b[0m\u001b[0;34m\u001b[0m\u001b[0m\n\u001b[1;32m      4\u001b[0m \u001b[0;31m# roc_curve('log reg, ROC', Y_test, predict3, label='LogisticRegression')\u001b[0m\u001b[0;34m\u001b[0m\u001b[0;34m\u001b[0m\u001b[0m\n\u001b[1;32m      5\u001b[0m \u001b[0;31m# roc_curve('log reg, ROC', Y_test, predict4, label='SVC')\u001b[0m\u001b[0;34m\u001b[0m\u001b[0;34m\u001b[0m\u001b[0m\n",
      "\u001b[0;31mTypeError\u001b[0m: list indices must be integers, not tuple"
     ]
    }
   ],
   "source": [
    "for i in range(5):\n",
    "    roc_curve('log reg, ROC', Y_test, predict_[:, i], label='RandomForestClassifier %s' % i, pos_label=i)\n",
    "# roc_curve('log reg, ROC', Y_test, predict2, label='MultinomialNB')\n",
    "# roc_curve('log reg, ROC', Y_test, predict3, label='LogisticRegression')\n",
    "# roc_curve('log reg, ROC', Y_test, predict4, label='SVC')"
   ]
  },
  {
   "cell_type": "code",
   "execution_count": null,
   "metadata": {
    "collapsed": true
   },
   "outputs": [],
   "source": []
  },
  {
   "cell_type": "code",
   "execution_count": null,
   "metadata": {
    "collapsed": true,
    "deletable": true,
    "editable": true
   },
   "outputs": [],
   "source": []
  },
  {
   "cell_type": "markdown",
   "metadata": {
    "deletable": true,
    "editable": true
   },
   "source": []
  }
 ],
 "metadata": {
  "kernelspec": {
   "display_name": "Python 2",
   "language": "python",
   "name": "python2"
  },
  "language_info": {
   "codemirror_mode": {
    "name": "ipython",
    "version": 2
   },
   "file_extension": ".py",
   "mimetype": "text/x-python",
   "name": "python",
   "nbconvert_exporter": "python",
   "pygments_lexer": "ipython2",
   "version": "2.7.6"
  }
 },
 "nbformat": 4,
 "nbformat_minor": 2
}
