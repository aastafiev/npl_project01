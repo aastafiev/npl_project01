{
 "cells": [
  {
   "cell_type": "code",
   "execution_count": 1,
   "metadata": {
    "collapsed": false,
    "deletable": true,
    "editable": true
   },
   "outputs": [
    {
     "name": "stderr",
     "output_type": "stream",
     "text": [
      "/usr/local/lib/python2.7/dist-packages/sklearn/cross_validation.py:44: DeprecationWarning: This module was deprecated in version 0.18 in favor of the model_selection module into which all the refactored classes and functions are moved. Also note that the interface of the new CV iterators are different from that of this module. This module will be removed in 0.20.\n",
      "  \"This module will be removed in 0.20.\", DeprecationWarning)\n",
      "/usr/local/lib/python2.7/dist-packages/IPython/html.py:14: ShimWarning: The `IPython.html` package has been deprecated since IPython 4.0. You should import from `notebook` instead. `IPython.html.widgets` has moved to `ipywidgets`.\n",
      "  \"`IPython.html.widgets` has moved to `ipywidgets`.\", ShimWarning)\n"
     ]
    }
   ],
   "source": [
    "%matplotlib inline\n",
    "\n",
    "import numpy as np\n",
    "from pandas import read_csv\n",
    "import pandas as pd\n",
    "import json\n",
    "from sklearn.feature_extraction.text import CountVectorizer\n",
    "from sklearn.cross_validation import train_test_split\n",
    "from sklearn.linear_model import LogisticRegression\n",
    "from sklearn import metrics\n",
    "from sklearn.model_selection import cross_val_score\n",
    "import matplotlib.pyplot as plot\n",
    "import seaborn"
   ]
  },
  {
   "cell_type": "code",
   "execution_count": 2,
   "metadata": {
    "collapsed": true,
    "deletable": true,
    "editable": true
   },
   "outputs": [],
   "source": [
    "from sklearn.ensemble import RandomForestClassifier\n",
    "from sklearn.ensemble import GradientBoostingClassifier\n",
    "from sklearn.naive_bayes import MultinomialNB\n",
    "from sklearn.linear_model import LogisticRegression\n",
    "from sklearn.svm import SVC\n",
    "from sklearn import metrics\n",
    "import numpy"
   ]
  },
  {
   "cell_type": "code",
   "execution_count": 3,
   "metadata": {
    "collapsed": false,
    "deletable": true,
    "editable": true,
    "scrolled": true
   },
   "outputs": [],
   "source": [
    "path = \"data/uid_domains_full.csv\"\n",
    "data = read_csv(path, delimiter='\\t')\n",
    "data['domains'] = [','.join(json.loads(i)) for i in data['domains']]"
   ]
  },
  {
   "cell_type": "code",
   "execution_count": 5,
   "metadata": {
    "collapsed": false,
    "deletable": true,
    "editable": true
   },
   "outputs": [
    {
     "data": {
      "text/html": [
       "<div>\n",
       "<table border=\"1\" class=\"dataframe\">\n",
       "  <thead>\n",
       "    <tr style=\"text-align: right;\">\n",
       "      <th></th>\n",
       "      <th>uid</th>\n",
       "      <th>gender</th>\n",
       "      <th>age</th>\n",
       "      <th>domains</th>\n",
       "    </tr>\n",
       "  </thead>\n",
       "  <tbody>\n",
       "    <tr>\n",
       "      <th>0</th>\n",
       "      <td>d50192e5-c44e-4ae8-ae7a-7cfe67c8b777</td>\n",
       "      <td>F</td>\n",
       "      <td>18-24</td>\n",
       "      <td>news.yandex.ru,sotovik.ru,zebra-zoya.ru</td>\n",
       "    </tr>\n",
       "    <tr>\n",
       "      <th>1</th>\n",
       "      <td>d502331d-621e-4721-ada2-5d30b2c3801f</td>\n",
       "      <td>M</td>\n",
       "      <td>25-34</td>\n",
       "      <td>rsdn.ru,citieslist.ru,rutv.ru,interfax.ru,vand...</td>\n",
       "    </tr>\n",
       "    <tr>\n",
       "      <th>2</th>\n",
       "      <td>d50237ea-747e-48a2-ba46-d08e71dddfdb</td>\n",
       "      <td>F</td>\n",
       "      <td>25-34</td>\n",
       "      <td>ru.oriflame.com,adme.ru,cdn.etgdta.com,povar.r...</td>\n",
       "    </tr>\n",
       "    <tr>\n",
       "      <th>3</th>\n",
       "      <td>d502f29f-d57a-46bf-8703-1cb5f8dcdf03</td>\n",
       "      <td>F</td>\n",
       "      <td>25-34</td>\n",
       "      <td>1obl.ru,nadietah.ru,translate-tattoo.ru</td>\n",
       "    </tr>\n",
       "    <tr>\n",
       "      <th>4</th>\n",
       "      <td>d503c3b2-a0c2-4f47-bb27-065058c73008</td>\n",
       "      <td>M</td>\n",
       "      <td>&gt;=55</td>\n",
       "      <td>fedpress.ru,eleks.ru,prommetizcomplect.ru,ramb...</td>\n",
       "    </tr>\n",
       "  </tbody>\n",
       "</table>\n",
       "</div>"
      ],
      "text/plain": [
       "                                    uid gender    age  \\\n",
       "0  d50192e5-c44e-4ae8-ae7a-7cfe67c8b777      F  18-24   \n",
       "1  d502331d-621e-4721-ada2-5d30b2c3801f      M  25-34   \n",
       "2  d50237ea-747e-48a2-ba46-d08e71dddfdb      F  25-34   \n",
       "3  d502f29f-d57a-46bf-8703-1cb5f8dcdf03      F  25-34   \n",
       "4  d503c3b2-a0c2-4f47-bb27-065058c73008      M   >=55   \n",
       "\n",
       "                                             domains  \n",
       "0            news.yandex.ru,sotovik.ru,zebra-zoya.ru  \n",
       "1  rsdn.ru,citieslist.ru,rutv.ru,interfax.ru,vand...  \n",
       "2  ru.oriflame.com,adme.ru,cdn.etgdta.com,povar.r...  \n",
       "3            1obl.ru,nadietah.ru,translate-tattoo.ru  \n",
       "4  fedpress.ru,eleks.ru,prommetizcomplect.ru,ramb...  "
      ]
     },
     "execution_count": 5,
     "metadata": {},
     "output_type": "execute_result"
    }
   ],
   "source": [
    "data.head()"
   ]
  },
  {
   "cell_type": "code",
   "execution_count": 4,
   "metadata": {
    "collapsed": false,
    "deletable": true,
    "editable": true
   },
   "outputs": [],
   "source": [
    "text_all = data['domains'].values.tolist()"
   ]
  },
  {
   "cell_type": "code",
   "execution_count": 38,
   "metadata": {
    "collapsed": false,
    "deletable": true,
    "editable": true
   },
   "outputs": [],
   "source": [
    "count_vec = CountVectorizer(tokenizer=lambda x: [i for i in x.split(',')], \n",
    "                            max_features=4000) "
   ]
  },
  {
   "cell_type": "code",
   "execution_count": 39,
   "metadata": {
    "collapsed": false,
    "deletable": true,
    "editable": true
   },
   "outputs": [],
   "source": [
    "matrix_count = count_vec.fit_transform(text_all)\n",
    "matrix = matrix_count.toarray()"
   ]
  },
  {
   "cell_type": "code",
   "execution_count": 40,
   "metadata": {
    "collapsed": true,
    "deletable": true,
    "editable": true
   },
   "outputs": [],
   "source": [
    "words = [x[0] for x in sorted(count_vec.vocabulary_.items(), key=lambda x: x[1])]"
   ]
  },
  {
   "cell_type": "code",
   "execution_count": 41,
   "metadata": {
    "collapsed": false,
    "deletable": true,
    "editable": true
   },
   "outputs": [],
   "source": [
    "matrix_df = pd.DataFrame(matrix, columns=words)"
   ]
  },
  {
   "cell_type": "code",
   "execution_count": 42,
   "metadata": {
    "collapsed": false,
    "deletable": true,
    "editable": true
   },
   "outputs": [],
   "source": [
    "matrix_df['uid'] = data['uid']\n",
    "matrix_df = pd.merge(matrix_df, data, on='uid').drop(['domains'], axis=1)\n",
    "# matrix_df = pd.get_dummies(matrix_df, columns=['gender'])"
   ]
  },
  {
   "cell_type": "code",
   "execution_count": 43,
   "metadata": {
    "collapsed": false,
    "deletable": true,
    "editable": true
   },
   "outputs": [],
   "source": [
    "matrix_df = matrix_df.iloc[:,2:]"
   ]
  },
  {
   "cell_type": "code",
   "execution_count": 44,
   "metadata": {
    "collapsed": false,
    "deletable": true,
    "editable": true
   },
   "outputs": [],
   "source": [
    "test_data = matrix_df[(matrix_df['gender'] == '-') & (matrix_df['age'] == '-')]\n",
    "train_data = matrix_df[~((matrix_df['gender'] == '-') & (matrix_df['age'] == '-'))]"
   ]
  },
  {
   "cell_type": "code",
   "execution_count": 45,
   "metadata": {
    "collapsed": false,
    "deletable": true,
    "editable": true
   },
   "outputs": [],
   "source": [
    "y_age = pd.factorize(train_data.age)[0]\n",
    "y_gender = pd.factorize(train_data.gender)[0]"
   ]
  },
  {
   "cell_type": "code",
   "execution_count": 46,
   "metadata": {
    "collapsed": true,
    "deletable": true,
    "editable": true
   },
   "outputs": [],
   "source": [
    "train_data.index = train_data['uid']\n",
    "test_data.index = test_data['uid']"
   ]
  },
  {
   "cell_type": "code",
   "execution_count": 47,
   "metadata": {
    "collapsed": false,
    "deletable": true,
    "editable": true
   },
   "outputs": [
    {
     "name": "stderr",
     "output_type": "stream",
     "text": [
      "/usr/local/lib/python2.7/dist-packages/ipykernel/__main__.py:1: SettingWithCopyWarning: \n",
      "A value is trying to be set on a copy of a slice from a DataFrame\n",
      "\n",
      "See the caveats in the documentation: http://pandas.pydata.org/pandas-docs/stable/indexing.html#indexing-view-versus-copy\n",
      "  if __name__ == '__main__':\n"
     ]
    }
   ],
   "source": [
    "train_data.drop(['age','gender','uid'],inplace=True, axis=1)"
   ]
  },
  {
   "cell_type": "code",
   "execution_count": 48,
   "metadata": {
    "collapsed": false,
    "deletable": true,
    "editable": true
   },
   "outputs": [
    {
     "name": "stderr",
     "output_type": "stream",
     "text": [
      "/usr/local/lib/python2.7/dist-packages/ipykernel/__main__.py:1: SettingWithCopyWarning: \n",
      "A value is trying to be set on a copy of a slice from a DataFrame\n",
      "\n",
      "See the caveats in the documentation: http://pandas.pydata.org/pandas-docs/stable/indexing.html#indexing-view-versus-copy\n",
      "  if __name__ == '__main__':\n"
     ]
    }
   ],
   "source": [
    "test_data.drop(['age','gender','uid'],inplace=True,axis=1)"
   ]
  },
  {
   "cell_type": "code",
   "execution_count": 49,
   "metadata": {
    "collapsed": false,
    "deletable": true,
    "editable": true
   },
   "outputs": [],
   "source": [
    "train_data = train_data.astype(float)\n",
    "test_data = test_data.astype(float)"
   ]
  },
  {
   "cell_type": "code",
   "execution_count": 50,
   "metadata": {
    "collapsed": false,
    "deletable": true,
    "editable": true
   },
   "outputs": [],
   "source": [
    "def cross_valid(matrix_counts, target, test_size=0.05, random_state=0):\n",
    "    return train_test_split(matrix_counts, target, test_size=test_size, random_state=random_state)"
   ]
  },
  {
   "cell_type": "code",
   "execution_count": 18,
   "metadata": {
    "collapsed": true,
    "deletable": true,
    "editable": true
   },
   "outputs": [],
   "source": [
    "def roc_curve(title, Y_test, predicted, label='?', pos_label=0):\n",
    "    fpr, tpr, th = metrics.roc_curve(Y_test, predicted, pos_label=pos_label)\n",
    "    plot.plot(fpr, tpr, label=label);\n",
    "    plot.xlabel('False Positive'); \n",
    "    plot.ylabel('True Positive'); \n",
    "    plot.title(title)\n",
    "    plot.legend(bbox_to_anchor=(1, 1), loc=2); \n",
    "    plot.xlim([0.0, 1.0]); plot.ylim([0.0, 1]);\n",
    "    print 'Logistic Regression (', label, ') AUC = ', metrics.auc(fpr, tpr)"
   ]
  },
  {
   "cell_type": "code",
   "execution_count": 51,
   "metadata": {
    "collapsed": false,
    "deletable": true,
    "editable": true
   },
   "outputs": [],
   "source": [
    "X_train, X_test, Y_train, Y_test = cross_valid(train_data, y_gender, random_state=5)"
   ]
  },
  {
   "cell_type": "code",
   "execution_count": 52,
   "metadata": {
    "collapsed": true,
    "deletable": true,
    "editable": true
   },
   "outputs": [],
   "source": [
    "X_train_a, X_test_a, Y_train_a, Y_test_a = cross_valid(train_data, y_age, random_state=5)"
   ]
  },
  {
   "cell_type": "code",
   "execution_count": null,
   "metadata": {
    "collapsed": false,
    "deletable": true,
    "editable": true
   },
   "outputs": [],
   "source": [
    "%%time\n",
    "#model1 = RandomForestClassifier(n_estimators=700, n_jobs=4)\n",
    "#model1.fit(X_train, Y_train)\n",
    "model1_1 = GradientBoostingClassifier(n_estimators=1000)\n",
    "model1_1.fit(X_train, Y_train)\n",
    "# model2 = MultinomialNB(alpha=1)\n",
    "# model2.fit(X_train, Y_train)\n",
    "#model3 = LogisticRegression(C=1.0, penalty='l2')\n",
    "#model3.fit(X_train, Y_train)\n",
    "#model4 = SVC()\n",
    "#model4.fit(X_train, Y_train)"
   ]
  },
  {
   "cell_type": "code",
   "execution_count": 22,
   "metadata": {
    "collapsed": false,
    "deletable": true,
    "editable": true
   },
   "outputs": [
    {
     "name": "stdout",
     "output_type": "stream",
     "text": [
      "CPU times: user 3h 10s, sys: 4.21 s, total: 3h 15s\n",
      "Wall time: 3h 9s\n"
     ]
    }
   ],
   "source": [
    "%%time\n",
    "#model2 = RandomForestClassifier(n_estimators=700, n_jobs=4)\n",
    "#model2.fit(X_train_a, Y_train_a)\n",
    "model2_1 = GradientBoostingClassifier(n_estimators=700)\n",
    "model2_1.fit(X_train_a, Y_train_a)"
   ]
  },
  {
   "cell_type": "code",
   "execution_count": 54,
   "metadata": {
    "collapsed": false,
    "deletable": true,
    "editable": true
   },
   "outputs": [],
   "source": [
    "#predict1 = model1.predict_proba(X_test)\n",
    "predict1_1 = model1_1.predict_proba(X_test)\n",
    "# predict2 = model2.predict_proba(X_test)\n",
    "# predict3 = model3.predict_proba(X_test)\n",
    "# predict4 = model4.predict_proba(X_test)"
   ]
  },
  {
   "cell_type": "code",
   "execution_count": 55,
   "metadata": {
    "collapsed": false,
    "deletable": true,
    "editable": true
   },
   "outputs": [
    {
     "name": "stdout",
     "output_type": "stream",
     "text": [
      "0.753601805882\n"
     ]
    }
   ],
   "source": [
    "#print metrics.roc_auc_score(Y_test,predict1[:,1])\n",
    "print metrics.roc_auc_score(Y_test,predict1_1[:,1])"
   ]
  },
  {
   "cell_type": "code",
   "execution_count": 26,
   "metadata": {
    "collapsed": true,
    "deletable": true,
    "editable": true
   },
   "outputs": [],
   "source": [
    "import pickle\n",
    "# save the classifier\n",
    "with open('GB_700classifier.pkl', 'wb') as f1:\n",
    "    pickle.dump(model1_1, f1) \n",
    "\n",
    "with open('GB_700classifier.pkl', 'wb') as f2:\n",
    "    pickle.dump(model2_1, f2) \n",
    "    \n",
    "    "
   ]
  },
  {
   "cell_type": "markdown",
   "metadata": {
    "deletable": true,
    "editable": true
   },
   "source": [
    "Работа с тестовой выборкой. Формирование предсказание"
   ]
  },
  {
   "cell_type": "code",
   "execution_count": 27,
   "metadata": {
    "collapsed": false,
    "deletable": true,
    "editable": true
   },
   "outputs": [],
   "source": [
    "m1_pred_gender = model1_1.predict_proba(test_data)"
   ]
  },
  {
   "cell_type": "code",
   "execution_count": 28,
   "metadata": {
    "collapsed": true,
    "deletable": true,
    "editable": true
   },
   "outputs": [],
   "source": [
    "pred_for_test_gender = ['M' if i.argmax() == 1 else 'F' for i in m1_pred_gender]"
   ]
  },
  {
   "cell_type": "code",
   "execution_count": 29,
   "metadata": {
    "collapsed": true,
    "deletable": true,
    "editable": true
   },
   "outputs": [],
   "source": [
    "m2_pred_age = model2_1.predict_proba(test_data)"
   ]
  },
  {
   "cell_type": "code",
   "execution_count": 30,
   "metadata": {
    "collapsed": true,
    "deletable": true,
    "editable": true
   },
   "outputs": [],
   "source": [
    "pred_for_test_age = []"
   ]
  },
  {
   "cell_type": "code",
   "execution_count": 31,
   "metadata": {
    "collapsed": true,
    "deletable": true,
    "editable": true
   },
   "outputs": [],
   "source": [
    "for i in m2_pred_age:\n",
    "    if i.argmax()==0:\n",
    "        pred_for_test_age.append('18-24')\n",
    "    elif i.argmax()==1:\n",
    "        pred_for_test_age.append('25-34')\n",
    "    elif i.argmax()==2:\n",
    "        pred_for_test_age.append('>=55')\n",
    "    elif i.argmax()==3:\n",
    "        pred_for_test_age.append('45-54')\n",
    "    else:\n",
    "        pred_for_test_age.append('35-44')"
   ]
  },
  {
   "cell_type": "code",
   "execution_count": 32,
   "metadata": {
    "collapsed": true,
    "deletable": true,
    "editable": true
   },
   "outputs": [],
   "source": [
    "sum_pred = pd.DataFrame()"
   ]
  },
  {
   "cell_type": "code",
   "execution_count": 33,
   "metadata": {
    "collapsed": true,
    "deletable": true,
    "editable": true
   },
   "outputs": [],
   "source": [
    "sum_pred['gender']=pred_for_test_gender\n"
   ]
  },
  {
   "cell_type": "code",
   "execution_count": 34,
   "metadata": {
    "collapsed": true,
    "deletable": true,
    "editable": true
   },
   "outputs": [],
   "source": [
    "sum_pred['age']=pred_for_test_age"
   ]
  },
  {
   "cell_type": "code",
   "execution_count": 35,
   "metadata": {
    "collapsed": false,
    "deletable": true,
    "editable": true
   },
   "outputs": [],
   "source": [
    "sum_pred.index = test_data.index"
   ]
  },
  {
   "cell_type": "code",
   "execution_count": 36,
   "metadata": {
    "collapsed": false,
    "deletable": true,
    "editable": true
   },
   "outputs": [],
   "source": [
    "sum_pred = sum_pred.sort_index()"
   ]
  },
  {
   "cell_type": "code",
   "execution_count": 37,
   "metadata": {
    "collapsed": false,
    "deletable": true,
    "editable": true
   },
   "outputs": [],
   "source": [
    "sum_pred.to_csv('project01_gender-age.csv',sep='\\t')"
   ]
  },
  {
   "cell_type": "code",
   "execution_count": null,
   "metadata": {
    "collapsed": true,
    "deletable": true,
    "editable": true
   },
   "outputs": [],
   "source": []
  }
 ],
 "metadata": {
  "kernelspec": {
   "display_name": "Python 2",
   "language": "python",
   "name": "python2"
  },
  "language_info": {
   "codemirror_mode": {
    "name": "ipython",
    "version": 2
   },
   "file_extension": ".py",
   "mimetype": "text/x-python",
   "name": "python",
   "nbconvert_exporter": "python",
   "pygments_lexer": "ipython2",
   "version": "2.7.6"
  }
 },
 "nbformat": 4,
 "nbformat_minor": 2
}
